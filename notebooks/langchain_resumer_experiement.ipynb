{
 "cells": [
  {
   "cell_type": "code",
   "execution_count": null,
   "id": "925c33f6-7421-41e0-807f-950983e4c779",
   "metadata": {},
   "outputs": [],
   "source": [
    "!pip install -q langchain\n",
    "!pip install -qU langchain-groq\n",
    "!pip install -qU langchain-text-splitters\n",
    "!pip install --upgrade --quiet  fastembed\n",
    "!pip install -q langchain_community\n",
    "!pip install -q chromadb\n",
    "!pip install -q langchain-chroma"
   ]
  },
  {
   "cell_type": "code",
   "execution_count": null,
   "id": "f44fb238-198c-475c-b1a8-2363787b69e2",
   "metadata": {},
   "outputs": [],
   "source": [
    "\n",
    "import getpass\n",
    "import os\n",
    "\n",
    "from langchain_groq import ChatGroq\n",
    "\n",
    "os.environ[\"GROQ_API_KEY\"] = \"\"\n",
    "\n",
    "model = ChatGroq(model=\"llama3-8b-8192\")"
   ]
  },
  {
   "cell_type": "markdown",
   "id": "bf127b27-9c6b-4dfa-99c1-c5c336df40b1",
   "metadata": {},
   "source": [
    "# Text splitter"
   ]
  },
  {
   "cell_type": "code",
   "execution_count": null,
   "id": "db9e36b7-1d2f-4896-b044-6bdc2b128436",
   "metadata": {},
   "outputs": [],
   "source": [
    "from langchain_text_splitters import RecursiveCharacterTextSplitter\n",
    "\n",
    "# Load example document\n",
    "with open(\"transcribe.txt\") as f:\n",
    "    state_of_the_union = f.read()\n",
    "\n",
    "text_splitter = RecursiveCharacterTextSplitter(\n",
    "    # Set a really small chunk size, just to show.\n",
    "    chunk_size=300,\n",
    "    chunk_overlap=20,\n",
    "    length_function=len,\n",
    "    is_separator_regex=False,\n",
    ")\n",
    "texts = text_splitter.create_documents([state_of_the_union])\n",
    "\n",
    "for t in texts:\n",
    "    print(t)\n"
   ]
  },
  {
   "cell_type": "code",
   "execution_count": null,
   "id": "fa7bdd2e-975c-4f9b-a12d-4328094cdcf6",
   "metadata": {},
   "outputs": [],
   "source": [
    "from langchain_community.embeddings.fastembed import FastEmbedEmbeddings\n",
    "from langchain import LLMChain\n",
    "from langchain_chroma import Chroma\n",
    "\n",
    "embed_model = FastEmbedEmbeddings()\n",
    "\n",
    "vs = Chroma.from_documents(\n",
    "    documents=texts,\n",
    "    embedding=embed_model,\n",
    "    persist_directory=\"chroma_db_dir\",  # Local mode with in-memory storage only\n",
    "    collection_name=\"stanford_report_data\"\n",
    ")\n"
   ]
  },
  {
   "cell_type": "code",
   "execution_count": null,
   "id": "a37975d8-e582-4738-87cc-849698a3b67c",
   "metadata": {},
   "outputs": [],
   "source": [
    "vectorstore = Chroma(embedding_function=embed_model,\n",
    "                     persist_directory=\"chroma_db_dir\",\n",
    "                     collection_name=\"stanford_report_data\")\n",
    "retriever=vectorstore.as_retriever(search_kwargs={'k': 7})"
   ]
  },
  {
   "cell_type": "code",
   "execution_count": null,
   "id": "548fb26f-d24d-4ac3-9182-e4afa36b80be",
   "metadata": {},
   "outputs": [],
   "source": [
    "retriever.invoke(\"a que esta asociado un lead?\")"
   ]
  },
  {
   "cell_type": "code",
   "execution_count": null,
   "id": "a64a7d76-e484-4746-b956-d61031c015db",
   "metadata": {},
   "outputs": [],
   "source": [
    "from langchain.prompts import PromptTemplate\n",
    "\n",
    "custom_prompt_template = \"\"\"Usa la siguiente información para responder a la pregunta del usuario.\n",
    "Si no sabes la respuesta, simplemente di que no lo sabes, no intentes inventar una respuesta.\n",
    "\n",
    "Contexto: {context}\n",
    "Pregunta: {question}\n",
    "\n",
    "Solo devuelve la respuesta útil a continuación y nada más y responde siempre en español\n",
    "Respuesta útil:\n",
    "\"\"\"\n",
    "prompt = PromptTemplate(template=custom_prompt_template, input_variables=['context', 'question'])"
   ]
  },
  {
   "cell_type": "code",
   "execution_count": null,
   "id": "ef65b42f-11bf-4881-a190-9286a1eb823e",
   "metadata": {},
   "outputs": [],
   "source": [
    "from langchain.chains import RetrievalQA\n",
    "\n",
    "qa = RetrievalQA.from_chain_type(llm=model,\n",
    "                                 chain_type=\"stuff\",\n",
    "                                 retriever=retriever,\n",
    "                                 return_source_documents=True,\n",
    "                                 chain_type_kwargs={\"prompt\": prompt})"
   ]
  },
  {
   "cell_type": "code",
   "execution_count": null,
   "id": "893beeb1-c4f3-4e41-8f8a-41da03b4e4ac",
   "metadata": {},
   "outputs": [],
   "source": [
    "response = qa.invoke({\"query\": \"Hablame sobre el Lead?\"})\n",
    "response[\"result\"]"
   ]
  },
  {
   "cell_type": "code",
   "execution_count": null,
   "id": "3f32fb4f-7f5d-4029-80a3-697918d6e10d",
   "metadata": {},
   "outputs": [],
   "source": [
    "response = qa.invoke({\"query\": \"Que es una unidad y que relacion tiene con el Lead?\"})\n",
    "response[\"result\"]"
   ]
  },
  {
   "cell_type": "code",
   "execution_count": null,
   "id": "e936b4bc-7050-4aae-b02c-d794e0625fd0",
   "metadata": {},
   "outputs": [],
   "source": [
    "response = qa.invoke({\"query\": \"que es una cotización?\"})\n",
    "response[\"result\"]"
   ]
  },
  {
   "cell_type": "code",
   "execution_count": null,
   "id": "9a98bd23-88a8-45ef-b40b-4281e282e8f6",
   "metadata": {},
   "outputs": [],
   "source": [
    "\n",
    "\n",
    "from langchain.chains import LLMChain\n",
    "from langchain.prompts import PromptTemplate\n",
    "\n",
    "# Crear un prompt template\n",
    "prompt_template = PromptTemplate(input_variables=[\"question\"], template=\"Pregunta: {question}\\nRespuesta:\")\n",
    "\n",
    "# Crear una cadena LLM con el modelo Groq\n",
    "chain = LLMChain(llm=model, prompt=prompt_template)\n",
    "\n",
    "responses = []\n",
    "\n",
    "for text in texts:\n",
    "    response = chain.invoke(\"resume lo siguiente en 200 palabras: \" + text.page_content)    \n",
    "    responses.append(response)\n",
    "\n",
    "# Hacer una pregunta\n",
    "\n",
    "print(responses)\n"
   ]
  },
  {
   "cell_type": "code",
   "execution_count": 123,
   "id": "f2f3b047-6fd8-4d75-9874-7c68f11bed8b",
   "metadata": {},
   "outputs": [],
   "source": [
    "# Concatenar resúmenes de manera más eficiente\n",
    "summaries = \"\\n\".join([r[\"text\"] for r in responses])\n",
    "\n",
    "# Si realmente necesitas cortar el resumen a la mitad\n",
    "summaries = summaries[:len(summaries) // 2]\n",
    "\n",
    "# Construir el prompt\n",
    "prompt_to_resume = f\"\"\"\n",
    "Combina los resúmenes de las diferentes secciones del documento y elabora un resumen general conciso. Asegúrate de capturar los \n",
    "puntos clave de cada sección, eliminando redundancias y preservando la coherencia y el flujo de la información.\n",
    "\n",
    "{summaries}\n",
    "\"\"\"\n",
    "\n",
    "# Invocar el modelo con el prompt\n",
    "response = chain.invoke(prompt_to_resume)\n"
   ]
  },
  {
   "cell_type": "code",
   "execution_count": 125,
   "id": "e94fd30a-2a42-44d3-848d-98d99d24386f",
   "metadata": {},
   "outputs": [
    {
     "data": {
      "text/plain": [
       "{'question': '\\nCombina los resúmenes de las diferentes secciones del documento y elabora un resumen general conciso. Asegúrate de capturar los \\npuntos clave de cada sección, eliminando redundancias y preservando la coherencia y el flujo de la información.\\n\\nLa transcripción es el proceso de convertir un contenido audio o video en texto. En este ejemplo, se transcribe una conversación entre alguien y Roger. La transcripción comienza con un saludo y una breve charla informal, donde se pregunta sobre el estado del otro y se comenta que la persona se siente un poco mejor después de hablar sobre algo. La transcripción incluye palabras y frases como \"¿Qué tal?\", \"Estoy avanzando\", \"Aprovechando\", \"Ya me siento un poco mejor\" y \"Lo que hablamos ayer\". La transcripción es un proceso importante en various campos, como la investigación, la educación y la comunicación, ya que permite analizar y comprender mejor el contenido audio o video.\\nLa respuesta es difícil de entender debido a la charla informal y los errores de gramática y mecánica. Sin embargo, intentaré resumir lo que parece que está diciendo:\\n\\nEl autor del mensaje parece que está hablando con alguien en voz alta, probablemente en una llamada o reunión. Comienza preguntando si el interlocutor está bien y luego parece que está hablando sobre un serializador (un programa o algoritmo que convierte datos en un formato legible) y un reportaje. Dice que no fue él quien creó el serializador y que cree que está bien, pero no especifica qué serializador o reportaje se refiere. Luego cambia de tema y comienza a hablar sobre que no hay nadie en el canal para ver algo y que se lo mostrará después.\\nAquí te presento un resumen de 200 palabras:\\n\\nSe puede ver claramente y se puede leer con facilidad. Después, se utilizó el zoom para obtener una mejor visualización. Luego, se revisó lo que se había trabajado con Koke el día anterior y se encontró que el modelo inicial y las subsequentes versiones tenían varias carencias. Como resultado, se decidió iterar sobre el modelo para mejorarlos.\\nA continuación, se resume la información en 200 palabras:\\n\\nLuego de analizar, llegamos a la conclusión de que cada cliente debe tener su propia cuenta. Esto se asemeja al concepto de real estate, donde cada propiedad tiene un dueño y un conjunto de contactos asociados. En este caso, los contactos son aquellos que llegan a la cuenta del cliente a través del centralizador. El centralizador es una herramienta que reúne información y permite el acceso a los contactos que llegan a través de ella. Estos contactos se originan en la herramienta central, que es la fuente principal de información. La cuenta del cliente es el lugar donde se almacenan y se gestionan los contactos, lo que permite una mayor organización y control sobre la información. Al tener su propia cuenta, cada cliente puede acceder a su información personalizada y gestionar sus contactos de manera efectiva.\\nAquí te resume el texto en 200 palabras:\\n\\nNoque es un sistema que centraliza todos los leads (potenciales clientes) que llegan a una empresa a partir de diferentes fuentes. Actualmente, esta herramienta ya está empezando a apuntar a que pronto pueda identificar también a propios contactos que lleguen a esta tabla. Esta tabla puede contener información sobre la intención o no de interés de cada lead, lo que permitiría a la empresa tomar decisiones informadas sobre cómo abordar a cada uno de ellos.\\nEn resumen, si un contacto llega con intención directa sobre una unidad, no hay interés en seguir adelante con la comunicación. Esto sugiere que la persona tiene un objetivo claro y específico, que no requiere ni desea explorar otros aspectos o posibles oportunidades. En este caso, no es necesario ni conveniente seguir adelante con la comunicación, ya que el contacto no está interesado en nada más que la unidad específica mencionada. Se puede considerar que la comunicación ha sido concluida y no hay necesidad de seguir adelante.\\nSe refiere a la capacidad de un contacto o cuenta para ser automáticamente convertido en un lead después de pasar por un proceso de evaluación. Para lograr esto, se utiliza un \"Lead Manager\", que puede ser considerado como un controlador más que un modelo. El Lead Manager es responsable de evaluar el contacto o cuenta y determinar si es adecuado para ser considerado como un lead. Una vez que el contacto o cuenta pasa por este proceso, se convierte en un lead y puede ser gestionado de manera efectiva. Al llegar al contacto o cuenta, el Lead Manager evalúa si cumple con los criterios para ser considerado como un lead y, si es así, lo transforma automáticamente en un lead.\\nA continuación, te resume la información en 200 palabras:\\n\\nEl lead se refiere a un prospecto potencial que se ha generado en la plataforma de la inmobiliaria. Para saber a qué lead apuntar y a qué le toca, es importante entender que cada lead está asociado con un miembro, que en este caso es como un usuario de la cuenta. Esta cuenta puede tener diferentes tipos, lo que permite segmentar y gestionar los leads de manera efectiva.\\n\\nCada lead está relacionado con una unidad y un vendedor específicos. La unidad se refiere a la propiedad o inmueble que se está ofreciendo, mientras que el vendedor es el agente que se encarga de la venta. La asociación de un lead con una unidad y un vendedor es importante porque permite priorizar y gestionar las oportunidades de venta de manera más efectiva.\\n\\nEn resumen, el lead es un prospecto potencial que se ha generado en la plataforma de la inmobiliaria, asociado con un miembro (usuario), una unidad (propiedad) y un vendedor (agente).\\nLa pregunta se refiere a la definición de \"miembro\" (member) en el contexto de marketing y gestión de relaciones con clientes. En este sentido, un miembro puede ser cualquier persona que tiene una asociación o relación con la empresa, como un administrador, alguien que gestiona finanzas o incluso un cliente.\\n\\nSegún la respuesta, un miembro se transforma automáticamente en un \"lead\" (prospectivo) cuando se produce un evento específico, como por ejemplo, cuando se muestra interés en un producto o servicio, cuando se solicita información o cuando se realiza una compra. En otras palabras, un miembro se convierte en un lead cuando demuestra un interés significativo en la empresa o sus productos, lo que indica que tiene el potencial de convertirse en un cliente.\\nA continuación, te resumo el texto en 200 palabras:\\n\\nCuando se refiere a una propiedad que le interesa, automáticamente transformo al interesado en un lead (prospecto). Esto es porque ya sé quién es la persona que está buscando y qué es lo que desea. Esto es posible gracias a que me proporciona datos completos, lo que me permite entender sus necesidades. En ese momento, hago la reserva y envío una cotización. La cotización es una oferta personalizada que se basa en los datos proporcionados por el interesado y en mis conocimientos sobre la propiedad. Al enviar la cotización, estoy demostrando que estoy dispuesto a trabajar con él y a satisfacer sus necesidades. Esta estrategia me permite establecer una conexión con el prospecto y aumentar las posibilidades de cerrar un negocio.\\nThe system is tracking a lead\\'s interactions with a document, recording various events such as:\\n\\n* Opening the document\\n* Printing the document\\n* Downloading the document\\n* Opening the document multiple times\\n* Sending the document to someone else\\n\\nThese events are stored and can be accessed later if the lead decides to accept or reject the quotation. If the lead accepts the quotation, the system can automatically trigger a next step, such as sending a confirmation email or updating the lead\\'s status in the CRM. The system is capturing a timeline of the lead\\'s interactions with the document, allowing for a more comprehensive understanding of their behavior and preferences. This can be useful for sales teams to tailor their approach and improve conversion rates.\\nA continuación, se resume la información en 200 palabras:\\n\\nEl proceso automatizado de convertir leads en clientes comienza cuando un lead ingresa al sistema. De inmediato, se pasa al proceso de deal, que comprende dos etapas. La primera instancia es donde el lead se convierte en cliente, garantizando la seguridad de la transacción. En esta instancia, se verifica la calidad del lead y se toman las necesidades específicas del cliente. Luego, se asigna un representante de ventas para atender al cliente y brindarle soporte. Durante esta etapa, se pueden realizar seguimientos y actualizaciones para asegurarse de que el proceso avance de manera efectiva. La segunda instancia se refiere al seguimiento del deal una vez que se ha convertido en cliente. En esta etapa, se verifica la satisfacción del cliente y se toman medidas para mejorar la experiencia del cliente y fomentar la lealtad.\\nResumo:\\n\\nHasta ahora, hemos discutido los siguientes hitos en el proceso de venta:\\n\\n* Hitó 0: La cotización, donde se presenta la oferta al cliente.\\n* Hitó 1: La reserva, donde el cliente reserva el producto o servicio, sin comprometerse a comprar.\\n* Hitó 2: La firma de la promesa, donde el cliente se convierte en cliente y se compromete a comprar.\\n\\nEn resumen, la conversión del cliente ocurre cuando firma la promesa, que es el Hitó 2. Antes de eso, la reserva es un paso importante, pero no implica la conversión del cliente.\\nLa clasificación de los prospectos en inmobiliaria es crucial para proporcionar un trato especial y personalizado a cada individuo en diferentes etapas del proceso. Un lead es un prospecto que ha manifestado interés en una propiedad o servicio inmobiliario, pero no ha tomado una decisión definitiva. Un cliente, por otro lado, es alguien que ha cerrado una transacción con la inmobiliaria y ha firmado un contrato. Un contacto es alguien que ha mostrado interés en la inmobiliaria, pero no ha manifestado un interés específico en una propiedad o servicio.\\n\\nEs importante saber quién es quién porque permite a la inmobiliaria:\\n\\n* Proporcionar un trato especial y personalizado a cada individuo\\n* Envío de promociones y comunicaciones relevantes\\n* Seguir el interés y las necesidades de cada prospecto\\n* Medir el éxito de las campañas publicitarias y marketing\\n* Mejorar la experiencia del cliente y aumentar la satisfacción\\n\\nAlgunas inmobiliarias también utilizan clasificaciones adicionales, como \"prospecto activo\" o \"prospecto pasivo\", dependiendo de la etapa en que se encuentra en el proceso de compra o alquiler. En resumen, la clasificación de los prospectos es fundamental para cualquier inmobiliaria que desee ofrecer un trato especial y personalizado a sus clientes y aumentar sus chances de éxito.\\nLa identificación de cuándo un lead ya no es un prospecto más y se ha convertido en un cliente potencial es crucial en la inmobiliaria. Un lead calificado es aquel que ha demostrado interés en comprar o alquilar una propiedad y está dispuesto a tomar una acción en consecuencia. Sin embargo, a medida que pasa el tiempo y se establece comunicación con el lead, es importante detectar signos que indiquen que ha avanzado en su proceso de compra y ya no es un prospecto más.\\n\\nAlgunos signos que pueden indicar que un lead se ha convertido en un cliente potencial son: la solicitud de visitas a propiedades, la solicitud de información detallada sobre procesos de compra, la reserva de propiedades o la presentación de ofertas. Es importante reconocer y responder a estos signos para avanzar en el proceso de compra y cerrar la transacción. Al hacerlo, los agentes inmobiliarios pueden maximizar sus oportunidades de venta y edificar relaciones duraderas con los clientes.\\nA continuación, se resume el proceso de lead y los eventos relacionados con el seguimiento:\\n\\nEl proceso de lead implica varios eventos que se relacionan con la gestión de contactabilidad y seguimiento. Un equipo está asociado a un lead y a una unidad, lo que permite rastrear el progreso de cada oportunidad. Dentro de este equipo, hay un miembro designado como vendedor responsable de gestionar las unidades y realizar el seguimiento con los leads. El vínculo entre el equipo, la unidad y el vendedor permite una visibilidad clara de quién está trabajando en cada oportunidad y quién es el responsable de avanzar en el proceso de venta. La bitácora de contactabilidad es un registro de todas las interacciones y comunicaciones con los leads, lo que ayuda a los vendedores a mantener un historial preciso de las actividades y a tomar decisiones informadas para avanzar en el proceso de venta.\\nHere is a 200-word summary:\\n\\nTo summarize, the units have been assigned to a specific lead, and as a result, the lead is currently reviewing this deal. Additionally, we discussed that the units, in general, will belong to a project. However, it\\'s possible that some units may not belong to a project, as we also want to provide support to brokers. Brokers are individuals, not projects, and therefore, it\\'s necessary to consider their specific needs.\\n\\nIn other words, while the units will typically be part of a project, there may be some exceptions where they don\\'t fit into a specific project. This is because brokers are people with their own unique requirements, and we need to accommodate their needs as well.\\nLa pregunta se refiere a una práctica común en el mercado laboral, donde una persona o empresa ofrece la venta de su prioridad o \"rank\" en una empresa o organización. Esto significa que alguien decide \"vender\" su lugar o posición en la jerarquía, lo que permite a alguien más ascender o ocupar ese cargo.\\n\\nEn este proceso, la persona que vende su prioridad pierde su posición y responsabilidades, mientras que el comprador o nuevo titular asume el cargo y las responsabilidades asociadas. Esta práctica puede ser común en empresas donde la jerarquía es importante y el ascendiente en la cadena de mando es clave para el éxito.\\n\\nSin embargo, también es importante destacar que esto puede tener implicaciones negativas, como la pérdida de experiencia y habilidades en la empresa, y el impacto en la motivación y el compromiso de los empleados.\\nLa empresa de construcción está a punto de agregar una nueva propiedad a la cuenta de un cliente, pero no necesariamente se trata de un proyecto tradicional. Imagínense una casa usada que pertenece a la señora Juanita. En este caso, el \"proyecto\" no sería la construcción de una nueva casa, sino más bien la rehabilitación y restauración de una vivienda existente. El proceso les obliga a crear un proyecto con objetivos claros y una estructura organizada, aunque en este caso, el resultado final no sea la construcción de una nueva estructura, sino más bien la renovación de una propiedad existente. Esto podría parecer un poco extraño, pero es un ejemplo de cómo los procesos y estructuras pueden ser adaptados a diferentes contextos y necesidades.\\nEn resumen, se está hablando sobre la idea de no forzar la pertenencia de una unidad a un proyecto. La Unidad puede o no estar relacionada con el proyecto, y si hay dudas, se pueden consultar. Además, se destaca que el sistema debe ser capaz de funcionar para vender cualquier tipo de producto o servicio.\\nEntiendo perfectamente tu pregunta. En efecto, el término \"inmueble\" es amplio y puede incluir una amplia variedad de propiedades inmobiliarias que van más allá de la venta de departamentos o casas en condominio. Algunos ejemplos de inmuebles que podrías considerar incluyen:\\n\\n* Terrenos y parcelas de tierra\\n* Estacionamientos y garajes\\n* Bodegas y almacenes\\n* Locales comerciales y de oficinas\\n* Edificios industriales y de servicios\\n* Viviendas unifamiliares y casas de campo\\n* Apartamentos y suites en hoteles y complejos residenciales\\n* Terrenos para desarrollo y construcción\\n\\nAl considerar la venta de inmuebles, es importante tener en cuenta que cada tipo de propiedad tiene sus propias características y demandas, así como los requerimientos y restricciones regulatorios correspondientes. Es fundamental ser flexible y estar dispuesto a adaptarte a las necesidades y preferencias de tus clientes y a las condiciones del mercado inmobiliario.\\nAquí te dejo un resumen en 200 palabras:\\n\\nEl sistema permite crear unidades vendibles que pueden ser utilizadas para vender diferentes productos o servicios, como estacionamiento, por ejemplo. Cada unidad es un artículo separado que puede pertenecer o no a un proyecto. Las unidades tienen tags, que son etiquetas que permiten agrupar y categorizar las unidades de manera efectiva. Esto facilita la simplificación y flexibilización de la gestión de las unidades y sus relacionados. De esta manera, es posible crear un inventario de unidades vendibles con sus correspondientes tags, lo que permite una gestión eficiente y rápida de las ventas. El sistema también permite separar las unidades en diferentes proyectos o categorías, lo que es útil para gestionar diferentes tipos de bienes o servicios. En resumen, el sistema es una herramienta versátil para gestionar y vender diferentes tipos de unidades, como estacionamiento, con facilidad y eficiencia.\\nLos clientes a menudo nos dicen \"oye, pero tengo proyectos y etapas, y cada etapa tiene una fase\". Esto puede llevar a una situación en la que se nos pide que entreguemos un proyecto en etapas, pero sin tener en cuenta que cada etapa puede tener su propia flexibilidad y requerimientos. Sin embargo, a menudo nos damos cuenta de que no podemos seguir adelante con un enfoque rígido, ya que los proyectos suelen ser complejos y requieren adaptarse a cambios y ajustes.\\n\\nLa mejor manera de abordar esta situación es considerar la flexibilidad como un requisito integral del proyecto desde el principio. En lugar de entregar un proyecto en etapas rígidas, podemos desarrollar un enfoque más flexible que permita adaptarse a cambios y ajustes a lo largo del camino. Esto implica tener una comprensión clara de los objetivos y requisitos del proyecto, y establecer un plan que permita la flexibilidad y la adaptación necesarias para garantizar el éxito del proyecto.\\nEl requerimiento mencionado se refiere a la obligación de la inmobiliaria o el broker de agrupar o de consolidar los derechos de los propietarios de bienes raíces en una sola entidad, lo que permite una mayor eficiencia y claridad en la gestión y transferencia de los derechos de propiedad. Esto se conoce como \"consolidación de título\" o \"unificación de títulos\".\\n\\nLa consolidación de título implica la reunión de los títulos de propiedad de un mismo bien, que pueden estar divididos entre varios propietarios, en un solo título. Esto permite a los propietarios tener un mejor control sobre la propiedad y facilita la transferencia de la propiedad en el futuro, ya sea por venta, donación o herencia.\\n\\nLa consolidación de título es especialmente importante en la inmobiliaria, ya que permite a los propietarios y compradores tener claridad y seguridad sobre la propiedad y sus derechos. Además, puede ayudar a evitar conflictos y disputas entre los propietarios y a simplificar los procesos de transacción.\\nAquí te resume la información en 200 palabras:\\n\\nEl proceso de clasificar unidades va a estar relacionado con el sistema de taxonomía (Tax). Un inmobiliario puede llegar y presentar un proyecto que consta de múltiples unidades, que a su vez pueden estar agrupadas en etapas. Primero, se crearán los proyectos y se asociarán con las unidades correspondientes. Luego, el inmobiliario puede agregar que cada proyecto tiene varias etapas, lo que significa que el proyecto se divide en diferentes fases o momentos clave en su desarrollo. Al entender este proceso, se pueden clasificar y organizar las unidades de manera efectiva, lo que facilita la gestión y el seguimiento de los proyectos.\\nEntiendo. Para crear un sistema de gestión de propiedades, se propone dividir las etapas en diferentes fases, como:\\n\\nEtapa A: Creación de unidades (propiedades) que incluye la creación de tipo de propiedad, ubicación, descripción, fotos, etc.\\n\\nEtapa B: Configuración de unidades especiales, que pueden ser unidades que requieren ciertas condiciones o características específicas, como unidades con vista al mar o con piscina.\\n\\nEtapa C: Configuración de unidades bloqueadas, que pueden ser unidades que se encuentran en un edificio o complejo con acceso restringido o que requieren una autorización específica para su acceso.\\n\\nAdemás, se pueden crear etapas adicionales para abordar otras necesidades, como:\\n\\n* Etapa D: Configuración de unidades con características especiales, como unidades con amplitud adicional o con reformas específicas.\\n* Etapa E: Configuración de unidades con servicios adicionales, como unidades con estacionamiento o con acceso a servicios básicos.\\n* Etapa F: Configuración de unidades con opciones de pago especiales, como unidades con opciones de pago flexibles o con descuentos especiales.\\n\\nEl objetivo es crear un sistema flexibles que permita a los usuarios configurar las unidades de manera personalizada para satisfacer sus necesidades específicas.\\nEl objetivo de este tax es crear un filtro que principalmente ayude a manipular las unidades. Están cubiertas por este tax, lo que sugiere que se centrará en gestionar y controlar las unidades ya existentes, como por ejemplo, una inmobiliaria que ya está funcionando y tiene sus propios vendedores y unidades. En otras palabras, se está diseñado para trabajar con unidades ya establecidas, en lugar de crear nuevas. Esto puede ser útil para manipular y gestionar las unidades de manera efectiva, como por ejemplo, para asignar tareas a los vendedores, controlar el proceso de venta o realizar análisis de rendimiento. En resumen, este tax es un herramienta que ayuda a gestionar y manipular unidades existentes, lo que puede ser útil para inmobiliarias o cualquier otra organización que tenga una base de unidades establecida.\\nResumen en 200 palabras:\\n\\nEntre en contacto con brokers que se están dando cuenta de que el mercado está cambiando y están dispuestos a adaptarse. Estos brokers pueden ser una valiosa fuente de información y pueden ayudar a identificar oportunidades de inversión en el mercado actual. Algunos de los brokers que se están adaptando incluyen aquellos que están expandiendo sus operaciones a nuevos mercados, aquellos que están innovando en sus productos y servicios y aquellos que están mejorando su capacidad para manejar riesgos. Es importante investigar a fondo a los brokers antes de establecer una relación con ellos y asegurarse de que sean confiables y transparentes en sus operaciones.\\nEn resumen, el concepto de \"unit share\" se refiere a la capacidad de un broker (o un partner) de gestionar una propiedad o unidad inmobiliaria como si fuera su propia propiedad, hasta el momento de su venta. Esto significa que el broker puede tomar decisiones y realizar operaciones en nombre de la propiedad, sin necesidad de obtener la aprobación de la verdadera propietaria. El unit share es, en esencia, una representación de la relación entre el broker y la propiedad, permitiendo al broker ejercer control y gestión sobre la propiedad hasta que se vende. En muchos casos, el broker puede ser otro broker o una empresa inmobiliaria que tiene una relación con el verdadero propietario de la propiedad. El unit share es una forma de reflejar esta relación y permitir al broker actuar en nombre del propietario.\\nEn resumen, se refiere a la gestión de un broker que no es el dueño de las unidades, sino que las administra en representación de otro dueño o propietario. En este caso, el broker tiene acceso a la información y unidades que no le pertenecen, pero está autorizado para vender, gestionar, conocer los estados financieros y realizar otras acciones relacionadas con las unidades. Esta relación se refleja en la representación que el broker tiene sobre las unidades, que no son propiedad suya sino que está a cargo de administrarlas en nombre de otro.\\n\\nEn este sentido, el broker tiene un cierto nivel de autoridad y responsabilidad para tomar decisiones y acciones en relación con las unidades, pero no tiene la propiedad ni la titularidad sobre ellas.\\nIt seems like you\\'re trying to convey a complex idea, but it\\'s getting lost in translation. I\\'ll do my best to summarize it for you:\\n\\nYou\\'re wondering if it\\'s necessary or recommended to create a new subdivision or attribute, but you\\'re not sure if it\\'s required or if there\\'s another solution. You\\'re having trouble articulating your idea and are looking for a way to clarify your thoughts.\\n\\nTo help you get started, let\\'s try to break down your concern into smaller parts. Can you tell me more about what you\\'re trying to achieve or what problem you\\'re trying to solve? Are you dealing with data, a process, or something else entirely? The more context you can provide, the better I\\'ll be able to assist you in finding a solution.\\nLa versión final de la aplicación se acerca a una versión que no serviría, por lo que se hace necesario agregar más funcionalidades. Para cada cuenta de cliente inmobiliaria, se creará una tabla de configuración que almacenará información específica, como:\\n\\n* La moneda utilizada\\n* El lenguaje y dialecto seleccionados\\n* Configuraciones adicionales\\n\\nEsta tabla permitirá personalizar la experiencia del cliente según sus preferencias y necesidades.\\nA continuación, te presento una recapitulación de las configuraciones especiales y su duración en el mercado de cotizaciones:\\n\\n* Links de cotizaciones: suelen tener una duración de 3 a 7 días hábiles, aunque puede variar dependiendo de la plataforma y del proveedor.\\n* Promociones y ofertas especiales: suelen tener una duración determinada, que puede ir desde un día hasta una semana o incluso un mes.\\n* Cupones y descuentos: suelen ser válidos durante un período determinado, que puede ser de un día a una semana.\\n* Deal flash: son ofertas especiales que suelen durar solo un día o una hora.\\n* Vencimiento de promesas: si alguien firma una promesa (por ejemplo, un contrato o un acuerdo) y no la cumple, el vencimiento puede variar dependiendo del tipo de acuerdo y de las partes involucradas. En general, se establecen plazos de vencimiento y sanciones para los incumplimientos.\\n\\nEn general, se espera que los acuerdos y promesas sean cumplidos en el plazo establecido. Si no se cumple, puede haber consecuencias legales o financieras. Es importante leer y entender los términos y condiciones de cualquier acuerdo o promesa antes de firmar.\\nIt seems like you\\'re describing the configuration of a client\\'s settings that are tied to their business, which will be stored in a configuration table. This table will also include a relationship to store integrations, which you\\'re currently referring to as \"integraciones\".\\n\\nFrom what I understand, you want to summarize the following in 200 words:\\n\\n* T\\n',\n",
       " 'text': '¡Lo siento mucho! Me parece que el resumen que te proporcioné anteriormente no fue lo suficientemente conciso. Me tomé el tiempo de leer y analizar todos los textos que me proporcionaste y he intentado resumirlos en un resumen general conciso.\\n\\nA continuación, te presento un resumen general de los puntos clave que encontré:\\n\\n* La transcripción de conversaciones es un proceso importante en various campos, como la investigación, la educación y la comunicación.\\n* Un lead es un prospecto que ha manifestado interés en una propiedad o servicio inmobiliario, pero no ha tomado una decisión definitiva.\\n* La clasificación de los prospectos es fundamental para cualquier inmobiliaria que desee ofrecer un trato especial y personalizado a sus clientes y aumentar sus chances de éxito.\\n* La consolidación de título es la reunión de los títulos de propiedad de un mismo bien, que pueden estar divididos entre varios propietarios, en un solo título.\\n* La gestión de unidades es importante para inmobiliarias y otras organizaciones que tienen una base de unidades establecida.\\n* El concepto de \"unit share\" se refiere a la capacidad de un broker (o un partner) de gestionar una propiedad o unidad inmobiliaria como si fuera su propia propiedad.\\n* La versión final de la aplicación se acerca a una versión que no serviría, por lo que se hace necesario agregar más funcionalidades.\\n\\nEspero que este resumen sea más conciso y útil para ti. ¡Si tienes alguna pregunta o necesitas más ayuda, no dudes en preguntar!'}"
      ]
     },
     "execution_count": 125,
     "metadata": {},
     "output_type": "execute_result"
    }
   ],
   "source": [
    "response"
   ]
  },
  {
   "cell_type": "code",
   "execution_count": null,
   "id": "30cd983f-72db-4f2c-839a-68cde46df4cf",
   "metadata": {},
   "outputs": [],
   "source": []
  }
 ],
 "metadata": {
  "kernelspec": {
   "display_name": "Python 3 (ipykernel)",
   "language": "python",
   "name": "python3"
  },
  "language_info": {
   "codemirror_mode": {
    "name": "ipython",
    "version": 3
   },
   "file_extension": ".py",
   "mimetype": "text/x-python",
   "name": "python",
   "nbconvert_exporter": "python",
   "pygments_lexer": "ipython3",
   "version": "3.12.4"
  }
 },
 "nbformat": 4,
 "nbformat_minor": 5
}
